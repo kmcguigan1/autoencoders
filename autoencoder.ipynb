{
 "cells": [
  {
   "cell_type": "markdown",
   "metadata": {},
   "source": [
    "# Autoencoder"
   ]
  },
  {
   "cell_type": "markdown",
   "metadata": {},
   "source": [
    "## imports"
   ]
  },
  {
   "cell_type": "code",
   "execution_count": 1,
   "metadata": {},
   "outputs": [],
   "source": [
    "from tensorflow.keras.datasets import mnist\n",
    "from tensorflow.keras.layers import Input, Dense, Flatten, Conv2D, Activation, Reshape\n",
    "from tensorflow.keras.activations import relu, sigmoid\n",
    "from tensorflow.keras.losses import MeanSquaredError\n",
    "from tensorflow.keras.metrics import MeanAbsoluteError\n",
    "from tensorflow.keras.optimizers import Adam\n",
    "from tensorflow.keras.callbacks import EarlyStopping, ReduceLROnPlateau\n",
    "from tensorflow.keras.models import Model\n",
    "\n",
    "import numpy as np\n",
    "import matplotlib.pyplot as plt"
   ]
  },
  {
   "cell_type": "markdown",
   "metadata": {},
   "source": [
    "## utility functions"
   ]
  },
  {
   "cell_type": "code",
   "execution_count": 2,
   "metadata": {},
   "outputs": [],
   "source": [
    "def show_image(img, target):\n",
    "    print(\"Target is: \", target)\n",
    "    plt.imshow(img, vmin=0, vmax=1, cmap='gray')\n",
    "    plt.show()"
   ]
  },
  {
   "cell_type": "markdown",
   "metadata": {},
   "source": [
    "## data steps"
   ]
  },
  {
   "cell_type": "markdown",
   "metadata": {},
   "source": [
    "### load the data"
   ]
  },
  {
   "cell_type": "code",
   "execution_count": 3,
   "metadata": {},
   "outputs": [],
   "source": [
    "(train_x, train_y), (test_x, test_y) = mnist.load_data()"
   ]
  },
  {
   "cell_type": "markdown",
   "metadata": {},
   "source": [
    "### preprocess the data"
   ]
  },
  {
   "cell_type": "code",
   "execution_count": 4,
   "metadata": {},
   "outputs": [],
   "source": [
    "# we assume that at least one pixel is lit up in the image since mnist is a cleaned dataset\n",
    "# this means we can check max value to see if we have preprocessed the data already\n",
    "if(np.max(train_x) > 1):\n",
    "    train_x = train_x / 255\n",
    "if(np.max(test_x) > 1):\n",
    "    test_x = test_x / 255"
   ]
  },
  {
   "cell_type": "code",
   "execution_count": 5,
   "metadata": {},
   "outputs": [
    {
     "name": "stdout",
     "output_type": "stream",
     "text": [
      "Target is:  5\n"
     ]
    },
    {
     "data": {
      "image/png": "[encoded data removed]",
      "text/plain": [
       "<Figure size 432x288 with 1 Axes>"
      ]
     },
     "metadata": {
      "needs_background": "light"
     },
     "output_type": "display_data"
    }
   ],
   "source": [
    "show_image(train_x[0], train_y[0])"
   ]
  },
  {
   "cell_type": "code",
   "execution_count": 6,
   "metadata": {},
   "outputs": [
    {
     "name": "stdout",
     "output_type": "stream",
     "text": [
      "(60000, 28, 28) (60000,) (10000, 28, 28) (10000,)\n"
     ]
    }
   ],
   "source": [
    "print(train_x.shape, train_y.shape, test_x.shape, test_y.shape)"
   ]
  },
  {
   "cell_type": "markdown",
   "metadata": {},
   "source": [
    "## create the model"
   ]
  },
  {
   "cell_type": "markdown",
   "metadata": {},
   "source": [
    "### dense model"
   ]
  },
  {
   "cell_type": "code",
   "execution_count": 7,
   "metadata": {},
   "outputs": [],
   "source": [
    "def create_dense_model(img_size):\n",
    "    encoder_inputs = Input(shape=(img_size,img_size,1))\n",
    "    x = Flatten()(encoder_inputs)\n",
    "    x = Dense(64)(x)\n",
    "    encoder_outputs = Activation(relu)(x)\n",
    "    x = Dense(img_size*img_size)(encoder_outputs)\n",
    "    decoder_outputs = Reshape((img_size,img_size,1))(x)\n",
    "    \n",
    "    encoder = Model(encoder_inputs, encoder_outputs, name=\"encoder\")\n",
    "    autoencoder = Model(encoder_inputs, decoder_outputs, name=\"autoencoder\")\n",
    "    #autoencoder.summary()\n",
    "    autoencoder.compile(loss=\"mse\", optimizer=\"adam\")\n",
    "    return autoencoder, encoder"
   ]
  },
  {
   "cell_type": "markdown",
   "metadata": {},
   "source": [
    "### convolutional model"
   ]
  },
  {
   "cell_type": "code",
   "execution_count": 8,
   "metadata": {},
   "outputs": [],
   "source": [
    "def create_convolutional_model(img_size):\n",
    "    encoder_inputs = Input(shape=(img_size,img_size,1))\n",
    "    x = Conv2D()\n",
    "    return"
   ]
  },
  {
   "cell_type": "markdown",
   "metadata": {},
   "source": [
    "## train function"
   ]
  },
  {
   "cell_type": "markdown",
   "metadata": {},
   "source": [
    "## driver"
   ]
  },
  {
   "cell_type": "code",
   "execution_count": 9,
   "metadata": {},
   "outputs": [],
   "source": [
    "autoencoder, encoder = create_dense_model(train_x.shape[1])"
   ]
  },
  {
   "cell_type": "code",
   "execution_count": 10,
   "metadata": {},
   "outputs": [
    {
     "name": "stdout",
     "output_type": "stream",
     "text": [
      "Epoch 1/20\n",
      "1875/1875 [==============================] - 2s 919us/step - loss: 0.0302\n",
      "Epoch 2/20\n",
      "1875/1875 [==============================] - 2s 910us/step - loss: 0.0121\n",
      "Epoch 3/20\n",
      "1875/1875 [==============================] - 2s 898us/step - loss: 0.0113\n",
      "Epoch 4/20\n",
      "1875/1875 [==============================] - 2s 895us/step - loss: 0.0110\n",
      "Epoch 5/20\n",
      "1875/1875 [==============================] - 2s 908us/step - loss: 0.0107\n",
      "Epoch 6/20\n",
      "1875/1875 [==============================] - 2s 929us/step - loss: 0.0107\n",
      "Epoch 7/20\n",
      "1875/1875 [==============================] - 2s 901us/step - loss: 0.0107\n",
      "Epoch 8/20\n",
      "1875/1875 [==============================] - 2s 905us/step - loss: 0.0107\n",
      "Epoch 9/20\n",
      "1875/1875 [==============================] - 2s 896us/step - loss: 0.0107\n",
      "Epoch 10/20\n",
      "1875/1875 [==============================] - 2s 927us/step - loss: 0.0106\n",
      "Epoch 11/20\n",
      "1875/1875 [==============================] - 2s 919us/step - loss: 0.0106\n",
      "Epoch 12/20\n",
      "1875/1875 [==============================] - 2s 903us/step - loss: 0.0106\n",
      "Epoch 13/20\n",
      "1875/1875 [==============================] - 2s 904us/step - loss: 0.0106\n",
      "Epoch 14/20\n",
      "1875/1875 [==============================] - 2s 911us/step - loss: 0.0106\n",
      "Epoch 15/20\n",
      "1875/1875 [==============================] - 2s 903us/step - loss: 0.0106\n",
      "Epoch 16/20\n",
      "1875/1875 [==============================] - 2s 1ms/step - loss: 0.0106\n",
      "Epoch 17/20\n",
      "1875/1875 [==============================] - 2s 955us/step - loss: 0.0106\n",
      "Epoch 18/20\n",
      "1875/1875 [==============================] - 2s 1ms/step - loss: 0.0106\n",
      "Epoch 19/20\n",
      "1875/1875 [==============================] - 2s 938us/step - loss: 0.0106\n",
      "Epoch 20/20\n",
      "1875/1875 [==============================] - 2s 989us/step - loss: 0.0106\n"
     ]
    }
   ],
   "source": [
    "early_stopping = EarlyStopping(monitor='loss', min_delta=0, patience=5, verbose=1, mode='min', restore_best_weights=True)\n",
    "reduce_lr = ReduceLROnPlateau(monitor='loss', min_delta=0, patience=2, factor=0.5)\n",
    "hist = autoencoder.fit(train_x, train_x, shuffle=True, epochs=20, callbacks=[early_stopping, reduce_lr])"
   ]
  },
  {
   "cell_type": "code",
   "execution_count": 11,
   "metadata": {},
   "outputs": [
    {
     "name": "stdout",
     "output_type": "stream",
     "text": [
      "313/313 [==============================] - 0s 759us/step - loss: 0.0103\n"
     ]
    },
    {
     "data": {
      "text/plain": [
       "0.010287214070558548"
      ]
     },
     "execution_count": 11,
     "metadata": {},
     "output_type": "execute_result"
    }
   ],
   "source": [
    "autoencoder.evaluate(test_x, test_x)"
   ]
  },
  {
   "cell_type": "code",
   "execution_count": null,
   "metadata": {},
   "outputs": [],
   "source": []
  }
 ],
 "metadata": {
  "kernelspec": {
   "display_name": "Python 3",
   "language": "python",
   "name": "python3"
  },
  "language_info": {
   "codemirror_mode": {
    "name": "ipython",
    "version": 3
   },
   "file_extension": ".py",
   "mimetype": "text/x-python",
   "name": "python",
   "nbconvert_exporter": "python",
   "pygments_lexer": "ipython3",
   "version": "3.7.9"
  }
 },
 "nbformat": 4,
 "nbformat_minor": 2
}
